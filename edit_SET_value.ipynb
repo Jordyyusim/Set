{
 "cells": [
  {
   "cell_type": "markdown",
   "metadata": {},
   "source": [
    "### __EDITING VALUES IN SET__\n",
    "\n",
    "#### add = adding a single value to a set. you can add a tuple into a set / _x.add(value)\n",
    "#### update = adding one or more value to set. you can add a list into a set/ _x.update(value, value). when you updating the set with a string. you add the set with every single char in that string.\n",
    "#### remove = deleting an exact value from a set with syntax error if there's no value in it / x.remove(value)\n",
    "#### discard = deleting an exact value from a set without syntax error if there's no value in it / _x.discard(value)_\n",
    "#### clear = deleting the whole set into empty set / x.clear()"
   ]
  },
  {
   "cell_type": "code",
   "execution_count": 1,
   "metadata": {},
   "outputs": [],
   "source": [
    "a = {1, 2, 3}\n",
    "\n",
    "# a.add('Budi')\n",
    "# a.add('c')\n",
    "# print(a)"
   ]
  },
  {
   "cell_type": "code",
   "execution_count": 3,
   "metadata": {},
   "outputs": [
    {
     "name": "stdout",
     "output_type": "stream",
     "text": [
      "{1, 2, 3, ('a', 'b', 'c')}\n"
     ]
    }
   ],
   "source": [
    "# a.add(('a', 'b', 'c'))\n",
    "# print(a)"
   ]
  },
  {
   "cell_type": "code",
   "execution_count": 8,
   "metadata": {},
   "outputs": [
    {
     "name": "stdout",
     "output_type": "stream",
     "text": [
      "{4, 5, 6, 7, 8, 'C', 9, 'a', 'c'}\n"
     ]
    }
   ],
   "source": [
    "a.update((4, 5, 6))\n",
    "a.update('Caca')\n",
    "a.update([8, 7, 9])\n",
    "print(a)"
   ]
  },
  {
   "cell_type": "code",
   "execution_count": 13,
   "metadata": {},
   "outputs": [
    {
     "name": "stdout",
     "output_type": "stream",
     "text": [
      "{5, 6, 7, 8, 'C', 9, 'a', 'c'}\n"
     ]
    }
   ],
   "source": [
    "# a.remove(4)\n",
    "# a.discard(2) \n",
    "a.discard(4) \n",
    "# a.remove('c')\n",
    "# a.clear()\n",
    "print(a)"
   ]
  },
  {
   "cell_type": "code",
   "execution_count": null,
   "metadata": {},
   "outputs": [],
   "source": []
  }
 ],
 "metadata": {
  "kernelspec": {
   "display_name": "Python 3",
   "language": "python",
   "name": "python3"
  },
  "language_info": {
   "codemirror_mode": {
    "name": "ipython",
    "version": 3
   },
   "file_extension": ".py",
   "mimetype": "text/x-python",
   "name": "python",
   "nbconvert_exporter": "python",
   "pygments_lexer": "ipython3",
   "version": "3.8.1"
  }
 },
 "nbformat": 4,
 "nbformat_minor": 4
}
